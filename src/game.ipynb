{
 "cells": [
  {
   "cell_type": "code",
   "execution_count": 1,
   "metadata": {},
   "outputs": [],
   "source": [
    "from TicTacToe import TicTacToe\n",
    "from Players import RandomPlayer, RandomWinner, RandomWinnerBlocker\n",
    "from functools import lru_cache\n",
    "import matplotlib.pyplot as plt\n",
    "\n",
    "import numpy as np\n",
    "import random"
   ]
  },
  {
   "cell_type": "code",
   "execution_count": 2,
   "metadata": {},
   "outputs": [
    {
     "name": "stdout",
     "output_type": "stream",
     "text": [
      "|O X|\n",
      "|O  |\n",
      "|OX |\n",
      "\n",
      "\n",
      "Winner: O\n"
     ]
    }
   ],
   "source": [
    "p1 = RandomPlayer('O')\n",
    "p2 = RandomPlayer('X')\n",
    "\n",
    "game = TicTacToe()\n",
    "p1_next=True\n",
    "\n",
    "while True:\n",
    "    if p1_next:\n",
    "        p1.move(game)\n",
    "    else:\n",
    "        p2.move(game)\n",
    "        \n",
    "    p1_next = not p1_next\n",
    "    \n",
    "    if game.game_over():\n",
    "        game.print_board()\n",
    "\n",
    "        print('game over')\n",
    "        break\n",
    "    if game.winner():\n",
    "        game.print_board()\n",
    "\n",
    "        print(f\"Winner: {game.winner()}\")\n",
    "        break\n",
    "    \n",
    "\n"
   ]
  },
  {
   "cell_type": "code",
   "execution_count": 9,
   "metadata": {},
   "outputs": [],
   "source": [
    "@lru_cache\n",
    "def get_state_key(states):\n",
    "    return sorted(states)[0]\n",
    "\n",
    "\n",
    "def decide_next_move(board: TicTacToe, state_dict: dict, player='X'):\n",
    "\n",
    "    possible_moves = board.possible_moves()\n",
    "    outcomes = []\n",
    "    for move in possible_moves:\n",
    "        hyp_state = board.fake_move(player=player, index=move)\n",
    "        hyp_key = get_state_key(game.similar_states(curr_state=hyp_state))\n",
    "\n",
    "        if hyp_key in state_dict:\n",
    "            outcomes.append(state_dict[hyp_key][0])\n",
    "        elif board.winner(curr_state=hyp_key) == player:\n",
    "            # next move would win\n",
    "            outcomes.append(1)\n",
    "        elif board.winner(curr_state=hyp_key):\n",
    "            # next move would lose\n",
    "            outcomes.append(0)\n",
    "            pass\n",
    "        elif board.moves == 8:\n",
    "            # next move would end in draw\n",
    "            outcomes.append(0)\n",
    "        else:\n",
    "            # not seen before, default to 0.5\n",
    "            outcomes.append(0.5)\n",
    "\n",
    "    best_outcome = np.max(outcomes)\n",
    "    best_indexes = [idx for idx, outcome in enumerate(outcomes) if outcome == best_outcome]\n",
    "    best_index = random.choice(best_indexes)\n",
    "\n",
    "    if board.state[possible_moves[best_index]]!=' ':\n",
    "        print(1)\n",
    "    return possible_moves[best_index]\n",
    "    \n"
   ]
  },
  {
   "cell_type": "code",
   "execution_count": 10,
   "metadata": {},
   "outputs": [],
   "source": [
    "def play_game(player_type):\n",
    "    player = 'X'\n",
    "    num_games = 10000\n",
    "    state_dict = dict()\n",
    "    wld = []\n",
    "\n",
    "    \"\"\"\n",
    "    state_dict looks like \n",
    "    {'state1': [probability, num_wins, num]}\n",
    "    \"\"\"\n",
    "    for game_num in range(1, num_games+1):\n",
    "        # print(game_num)\n",
    "\n",
    "        state_moves = []\n",
    "        game = TicTacToe()\n",
    "        p2 = player_type(player='O')\n",
    "\n",
    "        if random.randint(0,1):\n",
    "            # other player goes first\n",
    "            # print('2 going first')\n",
    "            game = p2.move(game)\n",
    "        \n",
    "        p1_turn = True\n",
    "\n",
    "        while not game.game_over() and not game.winner():\n",
    "\n",
    "            if p1_turn:\n",
    "                next_move = decide_next_move(board=game, state_dict=state_dict, player=player)\n",
    "                state_moves.append(game.fake_move(player=player, index=next_move))\n",
    "\n",
    "                game.add_move(player=player, index=next_move)\n",
    "            else:\n",
    "                game = p2.move(game)\n",
    "\n",
    "            # game.print_board()\n",
    "            p1_turn = not p1_turn\n",
    "\n",
    "        # gameover\n",
    "        if game.winner() == player:\n",
    "            # we won\n",
    "            increment = 1\n",
    "            wld.append('w')\n",
    "        elif game.winner() is False:\n",
    "            # game was a draw\n",
    "            increment = 0 \n",
    "            wld.append('d')\n",
    "        else:\n",
    "            # we lost \n",
    "            wld.append('l')\n",
    "            increment = 0 \n",
    "\n",
    "\n",
    "        for state in state_moves:\n",
    "            str_state = ''.join(state)\n",
    "            state_key = get_state_key(game.similar_states(str_state))\n",
    "            if state_key in state_dict:\n",
    "                prob, won, played = state_dict[state_key]\n",
    "                new_won = won + increment\n",
    "                new_played = played + 1\n",
    "\n",
    "                state_dict[state_key] = [new_won/new_played, new_won, new_played]\n",
    "                \n",
    "            else:\n",
    "                state_dict[state_key] = [increment, increment, 1]\n",
    "\n",
    "\n",
    "    # game.print_board()\n",
    "    # for k,v in state_dict.items():\n",
    "    #     print(k,v)\n",
    "\n",
    "    ws = np.cumsum([1 if x=='w' else 0 for x in wld ])\n",
    "    ds = np.cumsum([1 if x=='l' else 0 for x in wld ])\n",
    "    ls = np.cumsum([1 if x=='d' else 0 for x in wld ])\n",
    "\n",
    "\n",
    "    print(f\"W: {ws[-1]}, D: {ds[-1]}, L: {ls[-1]}\")\n",
    "\n",
    "        \n",
    "    fig, ax = plt.subplots(1)\n",
    "    ax.plot(ws,label='w')\n",
    "    ax.plot(ds,label='d')\n",
    "    ax.plot(ls,label='l')\n",
    "\n",
    "    plt.legend()\n",
    "\n",
    "    return state_dict\n",
    "\n",
    "\n",
    "\n"
   ]
  },
  {
   "cell_type": "code",
   "execution_count": 11,
   "metadata": {},
   "outputs": [
    {
     "name": "stdout",
     "output_type": "stream",
     "text": [
      "W: 8852, D: 956, L: 192\n"
     ]
    },
    {
     "data": {
      "image/png": "[encoded data removed]",
      "text/plain": [
       "<Figure size 640x480 with 1 Axes>"
      ]
     },
     "metadata": {},
     "output_type": "display_data"
    }
   ],
   "source": [
    "rp_sd = play_game(player_type=RandomPlayer)\n",
    "# rpw_sd = play_game(player_type=RandomWinner)\n",
    "# rpwb_sd = play_game(player_type=RandomWinnerBlocker)\n"
   ]
  },
  {
   "cell_type": "code",
   "execution_count": null,
   "metadata": {},
   "outputs": [],
   "source": [
    "import pandas as pd\n",
    "\n",
    "rpwb_sd"
   ]
  },
  {
   "cell_type": "code",
   "execution_count": null,
   "metadata": {},
   "outputs": [],
   "source": [
    "df = pd.DataFrame(rpwb_sd).T\n",
    "df.index[-1]"
   ]
  },
  {
   "cell_type": "code",
   "execution_count": null,
   "metadata": {},
   "outputs": [],
   "source": [
    "# current state of board\n",
    "# decide next move, record state and move\n",
    "# make move, and other makes move, check if w/l/end\n",
    "# update state dict with plays "
   ]
  }
 ],
 "metadata": {
  "kernelspec": {
   "display_name": ".venv",
   "language": "python",
   "name": "python3"
  },
  "language_info": {
   "codemirror_mode": {
    "name": "ipython",
    "version": 3
   },
   "file_extension": ".py",
   "mimetype": "text/x-python",
   "name": "python",
   "nbconvert_exporter": "python",
   "pygments_lexer": "ipython3",
   "version": "3.9.11"
  },
  "orig_nbformat": 4,
  "vscode": {
   "interpreter": {
    "hash": "11def4143cd92162dbb305650f4e8ef789c713539a86da1e1622b80cccc83034"
   }
  }
 },
 "nbformat": 4,
 "nbformat_minor": 2
}
